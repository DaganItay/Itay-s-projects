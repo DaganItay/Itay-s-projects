{
  "nbformat": 4,
  "nbformat_minor": 0,
  "metadata": {
    "colab": {
      "provenance": [],
      "authorship_tag": "ABX9TyMoqMRa9oVvRVRi1bLRS8Dx",
      "include_colab_link": true
    },
    "kernelspec": {
      "name": "python3",
      "display_name": "Python 3"
    },
    "language_info": {
      "name": "python"
    }
  },
  "cells": [
    {
      "cell_type": "markdown",
      "metadata": {
        "id": "view-in-github",
        "colab_type": "text"
      },
      "source": [
        "<a href=\"https://colab.research.google.com/github/DaganItay/ItayDagan-projects/blob/main/WORDtoEXCEL.ipynb\" target=\"_parent\"><img src=\"https://colab.research.google.com/assets/colab-badge.svg\" alt=\"Open In Colab\"/></a>"
      ]
    },
    {
      "cell_type": "code",
      "execution_count": 24,
      "metadata": {
        "colab": {
          "base_uri": "https://localhost:8080/"
        },
        "id": "jpTDRaBrpiK8",
        "outputId": "a8c062ba-dc5b-4e22-8ce0-9f7d5ba0da34"
      },
      "outputs": [
        {
          "output_type": "stream",
          "name": "stdout",
          "text": [
            "Date\n",
            "18/03/24\n",
            "Date\n",
            "10/03/24\n",
            "Date\n",
            "07/03/24\n",
            "Date\n",
            "04/03/2024\n",
            "Date\n",
            "/02/202428\n",
            "Date\n",
            "20/02/2024\n",
            "Date\n",
            "18/02/2024\n",
            "Date\n",
            "3/1/24\n",
            "Date\n",
            "2/1/24\n",
            "Date\n",
            "22/1/24\n",
            "Date\n",
            "23/1/24\n",
            "Date\n",
            "24/01/2024\n",
            "Date\n",
            "01/02/24\n",
            "Date\n",
            "05/02/2024\n",
            "Date\n",
            "06/02/2024\n",
            "Date\n",
            "07/02/24\n",
            "Date\n",
            "12/02/24\n",
            "Date\n",
            "13/02/24\n",
            "Date\n",
            "17/03/2-24\n",
            "Date\n",
            "18/03/-24\n"
          ]
        }
      ],
      "source": [
        "import pandas as pd\n",
        "from docx import Document\n",
        "import os\n",
        "\n",
        "# Define the path to the Word document\n",
        "docx_file = os.path.join(\"/content/aa.docx\")\n",
        "\n",
        "# Load the Word document\n",
        "doc = Document(docx_file)\n",
        "\n",
        "# Initialize an empty list to store extracted data\n",
        "data = []\n",
        "\n",
        "# Loop through each table in the document\n",
        "for table in doc.tables:\n",
        "    # Loop through each row in the table\n",
        "    for row in table.rows:\n",
        "        # Loop through each cell in the row\n",
        "        for i, cell in enumerate(row.cells):\n",
        "            # Check if the cell contains the field name \"Press #\"\n",
        "            if \"Date\" in cell.text:\n",
        "                # Get the index of the cell containing \"Press #\"\n",
        "                press_index = i\n",
        "                # Get the cell immediately to the right (next cell)\n",
        "                if press_index + 1 < len(row.cells):\n",
        "                    next_cell_text = row.cells[press_index + 1].text.strip()\n",
        "                    # Append the text to the list\n",
        "                    #data.append(next_cell_text)\n",
        "                    print (next_cell_text)"
      ]
    },
    {
      "cell_type": "code",
      "source": [
        "data"
      ],
      "metadata": {
        "colab": {
          "base_uri": "https://localhost:8080/"
        },
        "id": "uSJCs-2eppQN",
        "outputId": "4ffb84da-5429-447b-efda-dafba5c349d4"
      },
      "execution_count": 11,
      "outputs": [
        {
          "output_type": "execute_result",
          "data": {
            "text/plain": [
              "[]"
            ]
          },
          "metadata": {},
          "execution_count": 11
        }
      ]
    },
    {
      "cell_type": "code",
      "source": [],
      "metadata": {
        "id": "YnBicsB4qNoe"
      },
      "execution_count": null,
      "outputs": []
    }
  ]
}